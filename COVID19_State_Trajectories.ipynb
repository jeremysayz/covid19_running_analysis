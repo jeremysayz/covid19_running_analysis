{
  "nbformat": 4,
  "nbformat_minor": 0,
  "metadata": {
    "colab": {
      "name": "COVID19 State Trajectories.ipynb",
      "provenance": [],
      "collapsed_sections": [],
      "authorship_tag": "ABX9TyOBEn9gPTySUBftkmb/H5ws",
      "include_colab_link": true
    },
    "kernelspec": {
      "name": "python3",
      "display_name": "Python 3"
    }
  },
  "cells": [
    {
      "cell_type": "markdown",
      "metadata": {
        "id": "view-in-github",
        "colab_type": "text"
      },
      "source": [
        "<a href=\"https://colab.research.google.com/github/jeremysayz/covid19_running_analysis/blob/master/COVID19_State_Trajectories.ipynb\" target=\"_parent\"><img src=\"https://colab.research.google.com/assets/colab-badge.svg\" alt=\"Open In Colab\"/></a>"
      ]
    },
    {
      "cell_type": "markdown",
      "metadata": {
        "id": "3E3BFFSn6R0T",
        "colab_type": "text"
      },
      "source": [
        "This is an interactive web page - use Shift-Enter on each \"cell\" (block like this with a number to the left) to execute the code. (see Help menu above if you need help learning about Colab Notebooks)\n"
      ]
    },
    {
      "cell_type": "markdown",
      "metadata": {
        "id": "fZed_il59WBG",
        "colab_type": "text"
      },
      "source": [
        "# Prepare libraries and functions needed"
      ]
    },
    {
      "cell_type": "code",
      "metadata": {
        "id": "hk5HD32t6F8A",
        "colab_type": "code",
        "colab": {}
      },
      "source": [
        "import urllib\n",
        "import datetime\n",
        "\n",
        "import scipy.signal as spsig\n",
        "import pandas as pd\n",
        "import numpy as np\n",
        "\n",
        "import matplotlib.pyplot as plt\n"
      ],
      "execution_count": null,
      "outputs": []
    },
    {
      "cell_type": "code",
      "metadata": {
        "id": "Mk0ZJnbR6QRD",
        "colab_type": "code",
        "colab": {}
      },
      "source": [
        "plt.style.use({\n",
        "        \"axes.labelsize\":20,\n",
        "        \"font.size\":18,\n",
        "        \"lines.markersize\":8,\n",
        "        \"xtick.labelsize\":18,\n",
        "        \"ytick.labelsize\":18,\n",
        "        \"legend.fontsize\":12,\n",
        "        \"axes.titlesize\":18,\n",
        "        \"figure.figsize\":[12, 8],\n",
        "    })\n"
      ],
      "execution_count": null,
      "outputs": []
    },
    {
      "cell_type": "code",
      "metadata": {
        "id": "BLTV4r5I6mIe",
        "colab_type": "code",
        "colab": {},
        "cellView": "both"
      },
      "source": [
        "def testcount_corrected(statelist):\n",
        "    \"\"\"Give plots for listed state(s) for total number of positives (by day) and PERCENT of positives (by day) \n",
        "    Shows how testing volume is influencing results (or not).\n",
        "    \n",
        "    Inputs:\n",
        "        statelist  : list-like object giving states for which plots should be made\n",
        "    \"\"\"\n",
        "    for state in statelist:\n",
        "\n",
        "        try:\n",
        "            with urllib.request.urlopen(f'https://covidtracking.com/data/state/{state.lower()}') as response:\n",
        "               html = response.read()\n",
        "        except urllib.error.HTTPError:\n",
        "            continue #skip this \"state\" if it can't be read\n",
        "\n",
        "        parsed = pd.read_html(html)\n",
        "\n",
        "        data = parsed[1].copy()\n",
        "\n",
        "        fmt = '%a %b %d %Y'\n",
        "\n",
        "        data['Date'] = data['Date'].apply(lambda v: datetime.datetime.strptime(v, fmt))\n",
        "        data = data.sort_values('Date')\n",
        "\n",
        "        data['New Cases'] = data['Cases'].diff()\n",
        "        data['New Cases (%)'] = data['New Cases']/data['New Tests']*100\n",
        "\n",
        "        #NOTE: make days with >50% new positive cases MISSING - these are likely bolus data dumps from things like prisons.\n",
        "        # This means our running average will be UNDER estimating positive cases for the windows where these days fall. \n",
        "        # This missing value will cause the entire ROW to be dropped (so for both raw counts and %)\n",
        "        data.loc[data['New Cases (%)']>50, 'New Cases (%)'] = np.nan\n",
        "\n",
        "        data = data.set_index('Date')\n",
        "\n",
        "        for ax,pltinfo in enumerate([\n",
        "            ('New Cases (%)', plt.cm.tab10(0), '% Positve (Blue)'),\n",
        "            ('New Cases', plt.cm.tab10(1), 'Total Count (Orange)'),\n",
        "        ]):\n",
        "            col,color,lbl = pltinfo\n",
        "            if ax==1:\n",
        "                plt.gca().twinx()  #second axes on right\n",
        "            else:\n",
        "                plt.grid(True, color=color)  #give grid for ONLY first set of data\n",
        "\n",
        "            coldf = data.loc[datetime.datetime.strptime('2020-04-01','%Y-%m-%d'):, col].dropna()\n",
        "\n",
        "            #main data\n",
        "            plt.plot(coldf.index.values, coldf.values,'-', color=color)\n",
        "\n",
        "            #Running average (actually a 1st order savgol with 7-point window)\n",
        "            # NOTE: dropped days will be ignored in this smooth, so it's not really 7-days but 7 DATA POINTS\n",
        "            coldf_sm = spsig.savgol_filter(coldf.values, 7, 1, 0)\n",
        "            plt.plot(coldf.index.values, coldf_sm,'-', linewidth=6, color=color)\n",
        "\n",
        "            plt.ylabel(lbl)\n",
        "            plt.xticks(rotation=90)\n",
        "\n",
        "        plt.title(\"{} (as of {})\".format(state.capitalize(), datetime.datetime.now().strftime(\"%Y-%m-%d\")))\n",
        "        plt.xlabel(data.index.name)\n",
        "        plt.show()"
      ],
      "execution_count": null,
      "outputs": []
    },
    {
      "cell_type": "markdown",
      "metadata": {
        "id": "LvXKCynz91cu",
        "colab_type": "text"
      },
      "source": [
        "# Run the function above for the state(s) of interest"
      ]
    },
    {
      "cell_type": "code",
      "metadata": {
        "id": "YZ7X-xSR6q6M",
        "colab_type": "code",
        "colab": {}
      },
      "source": [
        "testcount_corrected(['florida', 'washington', 'texas', 'oklahoma', 'california', 'arizona'])"
      ],
      "execution_count": null,
      "outputs": []
    }
  ]
}